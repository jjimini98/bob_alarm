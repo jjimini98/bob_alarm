{
 "cells": [
  {
   "cell_type": "code",
   "execution_count": 1,
   "metadata": {},
   "outputs": [],
   "source": [
    "import json \n",
    "from collections import defaultdict\n",
    "import os \n",
    "import matplotlib.pyplot as plt\n",
    "from collections import Counter\n",
    "import matplotlib as mpl\n",
    "\n"
   ]
  },
  {
   "cell_type": "code",
   "execution_count": 2,
   "metadata": {},
   "outputs": [],
   "source": [
    "day_menu = defaultdict(list)\n",
    "\n",
    "PATH = \"../test_result\"\n",
    "files = os.listdir(\"../test_result\")\n",
    "for file in files : \n",
    "    with open(PATH+f\"/{file}\", \"r\") as f:\n",
    "        data = json.load(f)\n",
    "        for k,v in data.items():\n",
    "            if k == \"월요일\" or k == \"화요일\" or k == \"수요일\" or k == \"목요일\" or k == \"금요일\":\n",
    "                day_menu[k].append(v)\n",
    "\n",
    "\n",
    "\n"
   ]
  },
  {
   "cell_type": "code",
   "execution_count": 21,
   "metadata": {},
   "outputs": [],
   "source": [
    "refine_day_menu = defaultdict(list)\n",
    "\n",
    "\n",
    "for day, menus in day_menu.items():\n",
    "    for menu in menus:\n",
    "        menu = menu.split(\"\\n\")\n",
    "        if len(menu) == 15:\n",
    "            refine_day_menu[day].extend(menu[1:])"
   ]
  },
  {
   "cell_type": "code",
   "execution_count": 22,
   "metadata": {},
   "outputs": [
    {
     "name": "stdout",
     "output_type": "stream",
     "text": [
      "월요일 : 238\n",
      "화요일 : 266\n",
      "수요일 : 224\n",
      "목요일 : 252\n",
      "금요일 : 252\n"
     ]
    }
   ],
   "source": [
    "for k , v in refine_day_menu.items():\n",
    "    print(f\"{k} : {len(v)}\")"
   ]
  },
  {
   "cell_type": "code",
   "execution_count": 23,
   "metadata": {},
   "outputs": [
    {
     "data": {
      "image/png": "[encoded data removed]",
      "text/plain": [
       "<Figure size 640x480 with 1 Axes>"
      ]
     },
     "metadata": {},
     "output_type": "display_data"
    }
   ],
   "source": [
    "# 언제 일품식이 가장 많이 나왔나\n",
    "illpum = dict()\n",
    "\n",
    "for k,v in refine_day_menu.items():\n",
    "    for menu in v:\n",
    "        if \"[일품식]\" in menu:\n",
    "            illpum[k] = illpum.get(k, 0) + 1\n",
    "\n",
    "# # 한글 폰트 설정\n",
    "mpl.rcParams['font.family'] = 'AppleGothic'  # macOS\n",
    "\n",
    "# 폰트 사이즈 설정\n",
    "mpl.rcParams['axes.unicode_minus'] = False  # 마이너스 기호 깨짐 방지\n",
    "\n",
    "plt.bar(illpum.keys(), illpum.values())\n",
    "plt.title('요일별 일품식 데이터')\n",
    "plt.show()\n",
    "\n",
    "# 화요일이랑 목요일에 일품식이 많이 나오는구나! "
   ]
  },
  {
   "cell_type": "code",
   "execution_count": 24,
   "metadata": {},
   "outputs": [],
   "source": [
    "all_menu = [] \n",
    "for mon , menus in refine_day_menu.items():\n",
    "    for menu in menus:\n",
    "        all_menu.append(menu)"
   ]
  },
  {
   "cell_type": "code",
   "execution_count": 25,
   "metadata": {},
   "outputs": [
    {
     "name": "stdout",
     "output_type": "stream",
     "text": [
      "1232\n"
     ]
    }
   ],
   "source": [
    "print(len(all_menu))"
   ]
  },
  {
   "cell_type": "code",
   "execution_count": 26,
   "metadata": {},
   "outputs": [],
   "source": [
    "weight = Counter(all_menu)"
   ]
  },
  {
   "cell_type": "code",
   "execution_count": 27,
   "metadata": {},
   "outputs": [
    {
     "data": {
      "text/plain": [
       "[('포기김치', 139),\n",
       " ('쌀밥', 89),\n",
       " ('그린샐러드&드레싱', 85),\n",
       " ('[일품식]', 49),\n",
       " ('콩나물무침', 16),\n",
       " ('단무지', 15),\n",
       " ('추가밥', 14),\n",
       " ('매실차', 12),\n",
       " ('수정과', 12),\n",
       " ('배추겉절이', 10)]"
      ]
     },
     "execution_count": 27,
     "metadata": {},
     "output_type": "execute_result"
    }
   ],
   "source": [
    "weight.most_common(10)"
   ]
  },
  {
   "cell_type": "code",
   "execution_count": null,
   "metadata": {},
   "outputs": [],
   "source": []
  }
 ],
 "metadata": {
  "kernelspec": {
   "display_name": "Python 3",
   "language": "python",
   "name": "python3"
  },
  "language_info": {
   "codemirror_mode": {
    "name": "ipython",
    "version": 3
   },
   "file_extension": ".py",
   "mimetype": "text/x-python",
   "name": "python",
   "nbconvert_exporter": "python",
   "pygments_lexer": "ipython3",
   "version": "3.12.3"
  }
 },
 "nbformat": 4,
 "nbformat_minor": 2
}
